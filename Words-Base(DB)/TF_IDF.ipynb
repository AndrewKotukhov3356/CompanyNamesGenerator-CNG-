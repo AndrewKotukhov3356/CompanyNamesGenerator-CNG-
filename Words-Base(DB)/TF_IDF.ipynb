{
  "nbformat": 4,
  "nbformat_minor": 0,
  "metadata": {
    "colab": {
      "name": "TF-IDF.ipynb",
      "provenance": [],
      "collapsed_sections": []
    },
    "kernelspec": {
      "name": "python3",
      "display_name": "Python 3"
    },
    "language_info": {
      "name": "python"
    }
  },
  "cells": [
    {
      "cell_type": "code",
      "execution_count": null,
      "metadata": {
        "id": "KsPZHSmv6n9y",
        "colab": {
          "base_uri": "https://localhost:8080/"
        },
        "outputId": "5fc836b3-1f0b-40af-ce44-de3a21df264e"
      },
      "outputs": [
        {
          "output_type": "stream",
          "name": "stdout",
          "text": [
            "Requirement already satisfied: spacy in /usr/local/lib/python3.7/dist-packages (2.2.4)\n",
            "Requirement already satisfied: catalogue<1.1.0,>=0.0.7 in /usr/local/lib/python3.7/dist-packages (from spacy) (1.0.0)\n",
            "Requirement already satisfied: preshed<3.1.0,>=3.0.2 in /usr/local/lib/python3.7/dist-packages (from spacy) (3.0.6)\n",
            "Requirement already satisfied: wasabi<1.1.0,>=0.4.0 in /usr/local/lib/python3.7/dist-packages (from spacy) (0.9.0)\n",
            "Requirement already satisfied: thinc==7.4.0 in /usr/local/lib/python3.7/dist-packages (from spacy) (7.4.0)\n",
            "Requirement already satisfied: srsly<1.1.0,>=1.0.2 in /usr/local/lib/python3.7/dist-packages (from spacy) (1.0.5)\n",
            "Requirement already satisfied: requests<3.0.0,>=2.13.0 in /usr/local/lib/python3.7/dist-packages (from spacy) (2.23.0)\n",
            "Requirement already satisfied: numpy>=1.15.0 in /usr/local/lib/python3.7/dist-packages (from spacy) (1.21.5)\n",
            "Requirement already satisfied: blis<0.5.0,>=0.4.0 in /usr/local/lib/python3.7/dist-packages (from spacy) (0.4.1)\n",
            "Requirement already satisfied: cymem<2.1.0,>=2.0.2 in /usr/local/lib/python3.7/dist-packages (from spacy) (2.0.6)\n",
            "Requirement already satisfied: setuptools in /usr/local/lib/python3.7/dist-packages (from spacy) (57.4.0)\n",
            "Requirement already satisfied: plac<1.2.0,>=0.9.6 in /usr/local/lib/python3.7/dist-packages (from spacy) (1.1.3)\n",
            "Requirement already satisfied: murmurhash<1.1.0,>=0.28.0 in /usr/local/lib/python3.7/dist-packages (from spacy) (1.0.6)\n",
            "Requirement already satisfied: tqdm<5.0.0,>=4.38.0 in /usr/local/lib/python3.7/dist-packages (from spacy) (4.63.0)\n",
            "Requirement already satisfied: importlib-metadata>=0.20 in /usr/local/lib/python3.7/dist-packages (from catalogue<1.1.0,>=0.0.7->spacy) (4.11.2)\n",
            "Requirement already satisfied: zipp>=0.5 in /usr/local/lib/python3.7/dist-packages (from importlib-metadata>=0.20->catalogue<1.1.0,>=0.0.7->spacy) (3.7.0)\n",
            "Requirement already satisfied: typing-extensions>=3.6.4 in /usr/local/lib/python3.7/dist-packages (from importlib-metadata>=0.20->catalogue<1.1.0,>=0.0.7->spacy) (3.10.0.2)\n",
            "Requirement already satisfied: urllib3!=1.25.0,!=1.25.1,<1.26,>=1.21.1 in /usr/local/lib/python3.7/dist-packages (from requests<3.0.0,>=2.13.0->spacy) (1.24.3)\n",
            "Requirement already satisfied: chardet<4,>=3.0.2 in /usr/local/lib/python3.7/dist-packages (from requests<3.0.0,>=2.13.0->spacy) (3.0.4)\n",
            "Requirement already satisfied: certifi>=2017.4.17 in /usr/local/lib/python3.7/dist-packages (from requests<3.0.0,>=2.13.0->spacy) (2021.10.8)\n",
            "Requirement already satisfied: idna<3,>=2.5 in /usr/local/lib/python3.7/dist-packages (from requests<3.0.0,>=2.13.0->spacy) (2.10)\n",
            "Requirement already satisfied: spacy in /usr/local/lib/python3.7/dist-packages (2.2.4)\n",
            "Collecting spacy\n",
            "  Downloading spacy-3.2.3-cp37-cp37m-manylinux_2_17_x86_64.manylinux2014_x86_64.whl (6.0 MB)\n",
            "\u001b[K     |████████████████████████████████| 6.0 MB 7.5 MB/s \n",
            "\u001b[?25hCollecting langcodes<4.0.0,>=3.2.0\n",
            "  Downloading langcodes-3.3.0-py3-none-any.whl (181 kB)\n",
            "\u001b[K     |████████████████████████████████| 181 kB 68.1 MB/s \n",
            "\u001b[?25hRequirement already satisfied: tqdm<5.0.0,>=4.38.0 in /usr/local/lib/python3.7/dist-packages (from spacy) (4.63.0)\n",
            "Collecting typer<0.5.0,>=0.3.0\n",
            "  Downloading typer-0.4.0-py3-none-any.whl (27 kB)\n",
            "Requirement already satisfied: requests<3.0.0,>=2.13.0 in /usr/local/lib/python3.7/dist-packages (from spacy) (2.23.0)\n",
            "Collecting srsly<3.0.0,>=2.4.1\n",
            "  Downloading srsly-2.4.2-cp37-cp37m-manylinux_2_17_x86_64.manylinux2014_x86_64.whl (451 kB)\n",
            "\u001b[K     |████████████████████████████████| 451 kB 68.6 MB/s \n",
            "\u001b[?25hCollecting spacy-legacy<3.1.0,>=3.0.8\n",
            "  Downloading spacy_legacy-3.0.9-py2.py3-none-any.whl (20 kB)\n",
            "Requirement already satisfied: numpy>=1.15.0 in /usr/local/lib/python3.7/dist-packages (from spacy) (1.21.5)\n",
            "Collecting thinc<8.1.0,>=8.0.12\n",
            "  Downloading thinc-8.0.15-cp37-cp37m-manylinux_2_17_x86_64.manylinux2014_x86_64.whl (653 kB)\n",
            "\u001b[K     |████████████████████████████████| 653 kB 44.1 MB/s \n",
            "\u001b[?25hCollecting spacy-loggers<2.0.0,>=1.0.0\n",
            "  Downloading spacy_loggers-1.0.1-py3-none-any.whl (7.0 kB)\n",
            "Collecting pathy>=0.3.5\n",
            "  Downloading pathy-0.6.1-py3-none-any.whl (42 kB)\n",
            "\u001b[K     |████████████████████████████████| 42 kB 1.3 MB/s \n",
            "\u001b[?25hRequirement already satisfied: blis<0.8.0,>=0.4.0 in /usr/local/lib/python3.7/dist-packages (from spacy) (0.4.1)\n",
            "Requirement already satisfied: typing-extensions<4.0.0.0,>=3.7.4 in /usr/local/lib/python3.7/dist-packages (from spacy) (3.10.0.2)\n",
            "Requirement already satisfied: wasabi<1.1.0,>=0.8.1 in /usr/local/lib/python3.7/dist-packages (from spacy) (0.9.0)\n",
            "Requirement already satisfied: murmurhash<1.1.0,>=0.28.0 in /usr/local/lib/python3.7/dist-packages (from spacy) (1.0.6)\n",
            "Requirement already satisfied: preshed<3.1.0,>=3.0.2 in /usr/local/lib/python3.7/dist-packages (from spacy) (3.0.6)\n",
            "Requirement already satisfied: cymem<2.1.0,>=2.0.2 in /usr/local/lib/python3.7/dist-packages (from spacy) (2.0.6)\n",
            "Requirement already satisfied: packaging>=20.0 in /usr/local/lib/python3.7/dist-packages (from spacy) (21.3)\n",
            "Collecting pydantic!=1.8,!=1.8.1,<1.9.0,>=1.7.4\n",
            "  Downloading pydantic-1.8.2-cp37-cp37m-manylinux2014_x86_64.whl (10.1 MB)\n",
            "\u001b[K     |████████████████████████████████| 10.1 MB 26.6 MB/s \n",
            "\u001b[?25hRequirement already satisfied: jinja2 in /usr/local/lib/python3.7/dist-packages (from spacy) (2.11.3)\n",
            "Collecting catalogue<2.1.0,>=2.0.6\n",
            "  Downloading catalogue-2.0.6-py3-none-any.whl (17 kB)\n",
            "Requirement already satisfied: setuptools in /usr/local/lib/python3.7/dist-packages (from spacy) (57.4.0)\n",
            "Requirement already satisfied: zipp>=0.5 in /usr/local/lib/python3.7/dist-packages (from catalogue<2.1.0,>=2.0.6->spacy) (3.7.0)\n",
            "Requirement already satisfied: pyparsing!=3.0.5,>=2.0.2 in /usr/local/lib/python3.7/dist-packages (from packaging>=20.0->spacy) (3.0.7)\n",
            "Requirement already satisfied: smart-open<6.0.0,>=5.0.0 in /usr/local/lib/python3.7/dist-packages (from pathy>=0.3.5->spacy) (5.2.1)\n",
            "Requirement already satisfied: chardet<4,>=3.0.2 in /usr/local/lib/python3.7/dist-packages (from requests<3.0.0,>=2.13.0->spacy) (3.0.4)\n",
            "Requirement already satisfied: certifi>=2017.4.17 in /usr/local/lib/python3.7/dist-packages (from requests<3.0.0,>=2.13.0->spacy) (2021.10.8)\n",
            "Requirement already satisfied: urllib3!=1.25.0,!=1.25.1,<1.26,>=1.21.1 in /usr/local/lib/python3.7/dist-packages (from requests<3.0.0,>=2.13.0->spacy) (1.24.3)\n",
            "Requirement already satisfied: idna<3,>=2.5 in /usr/local/lib/python3.7/dist-packages (from requests<3.0.0,>=2.13.0->spacy) (2.10)\n",
            "Requirement already satisfied: click<9.0.0,>=7.1.1 in /usr/local/lib/python3.7/dist-packages (from typer<0.5.0,>=0.3.0->spacy) (7.1.2)\n",
            "Requirement already satisfied: MarkupSafe>=0.23 in /usr/local/lib/python3.7/dist-packages (from jinja2->spacy) (2.0.1)\n",
            "Installing collected packages: catalogue, typer, srsly, pydantic, thinc, spacy-loggers, spacy-legacy, pathy, langcodes, spacy\n",
            "  Attempting uninstall: catalogue\n",
            "    Found existing installation: catalogue 1.0.0\n",
            "    Uninstalling catalogue-1.0.0:\n",
            "      Successfully uninstalled catalogue-1.0.0\n",
            "  Attempting uninstall: srsly\n",
            "    Found existing installation: srsly 1.0.5\n",
            "    Uninstalling srsly-1.0.5:\n",
            "      Successfully uninstalled srsly-1.0.5\n",
            "  Attempting uninstall: thinc\n",
            "    Found existing installation: thinc 7.4.0\n",
            "    Uninstalling thinc-7.4.0:\n",
            "      Successfully uninstalled thinc-7.4.0\n",
            "  Attempting uninstall: spacy\n",
            "    Found existing installation: spacy 2.2.4\n",
            "    Uninstalling spacy-2.2.4:\n",
            "      Successfully uninstalled spacy-2.2.4\n",
            "Successfully installed catalogue-2.0.6 langcodes-3.3.0 pathy-0.6.1 pydantic-1.8.2 spacy-3.2.3 spacy-legacy-3.0.9 spacy-loggers-1.0.1 srsly-2.4.2 thinc-8.0.15 typer-0.4.0\n",
            "Collecting https://github.com/explosion/spacy-models/releases/download/ru_core_news_sm-3.2.0/ru_core_news_sm-3.2.0.tar.gz\n",
            "  Downloading https://github.com/explosion/spacy-models/releases/download/ru_core_news_sm-3.2.0/ru_core_news_sm-3.2.0.tar.gz (16.2 MB)\n",
            "\u001b[K     |████████████████████████████████| 16.2 MB 434 kB/s \n",
            "\u001b[?25hRequirement already satisfied: spacy<3.3.0,>=3.2.0 in /usr/local/lib/python3.7/dist-packages (from ru-core-news-sm==3.2.0) (3.2.3)\n",
            "Collecting pymorphy2>=0.9\n",
            "  Downloading pymorphy2-0.9.1-py3-none-any.whl (55 kB)\n",
            "\u001b[K     |████████████████████████████████| 55 kB 2.0 MB/s \n",
            "\u001b[?25hCollecting pymorphy2-dicts-ru<3.0,>=2.4\n",
            "  Downloading pymorphy2_dicts_ru-2.4.417127.4579844-py2.py3-none-any.whl (8.2 MB)\n",
            "\u001b[K     |████████████████████████████████| 8.2 MB 10.0 MB/s \n",
            "\u001b[?25hRequirement already satisfied: docopt>=0.6 in /usr/local/lib/python3.7/dist-packages (from pymorphy2>=0.9->ru-core-news-sm==3.2.0) (0.6.2)\n",
            "Collecting dawg-python>=0.7.1\n",
            "  Downloading DAWG_Python-0.7.2-py2.py3-none-any.whl (11 kB)\n",
            "Requirement already satisfied: typer<0.5.0,>=0.3.0 in /usr/local/lib/python3.7/dist-packages (from spacy<3.3.0,>=3.2.0->ru-core-news-sm==3.2.0) (0.4.0)\n",
            "Requirement already satisfied: langcodes<4.0.0,>=3.2.0 in /usr/local/lib/python3.7/dist-packages (from spacy<3.3.0,>=3.2.0->ru-core-news-sm==3.2.0) (3.3.0)\n",
            "Requirement already satisfied: blis<0.8.0,>=0.4.0 in /usr/local/lib/python3.7/dist-packages (from spacy<3.3.0,>=3.2.0->ru-core-news-sm==3.2.0) (0.4.1)\n",
            "Requirement already satisfied: setuptools in /usr/local/lib/python3.7/dist-packages (from spacy<3.3.0,>=3.2.0->ru-core-news-sm==3.2.0) (57.4.0)\n",
            "Requirement already satisfied: jinja2 in /usr/local/lib/python3.7/dist-packages (from spacy<3.3.0,>=3.2.0->ru-core-news-sm==3.2.0) (2.11.3)\n",
            "Requirement already satisfied: tqdm<5.0.0,>=4.38.0 in /usr/local/lib/python3.7/dist-packages (from spacy<3.3.0,>=3.2.0->ru-core-news-sm==3.2.0) (4.63.0)\n",
            "Requirement already satisfied: typing-extensions<4.0.0.0,>=3.7.4 in /usr/local/lib/python3.7/dist-packages (from spacy<3.3.0,>=3.2.0->ru-core-news-sm==3.2.0) (3.10.0.2)\n",
            "Requirement already satisfied: murmurhash<1.1.0,>=0.28.0 in /usr/local/lib/python3.7/dist-packages (from spacy<3.3.0,>=3.2.0->ru-core-news-sm==3.2.0) (1.0.6)\n",
            "Requirement already satisfied: pydantic!=1.8,!=1.8.1,<1.9.0,>=1.7.4 in /usr/local/lib/python3.7/dist-packages (from spacy<3.3.0,>=3.2.0->ru-core-news-sm==3.2.0) (1.8.2)\n",
            "Requirement already satisfied: wasabi<1.1.0,>=0.8.1 in /usr/local/lib/python3.7/dist-packages (from spacy<3.3.0,>=3.2.0->ru-core-news-sm==3.2.0) (0.9.0)\n",
            "Requirement already satisfied: preshed<3.1.0,>=3.0.2 in /usr/local/lib/python3.7/dist-packages (from spacy<3.3.0,>=3.2.0->ru-core-news-sm==3.2.0) (3.0.6)\n",
            "Requirement already satisfied: numpy>=1.15.0 in /usr/local/lib/python3.7/dist-packages (from spacy<3.3.0,>=3.2.0->ru-core-news-sm==3.2.0) (1.21.5)\n",
            "Requirement already satisfied: catalogue<2.1.0,>=2.0.6 in /usr/local/lib/python3.7/dist-packages (from spacy<3.3.0,>=3.2.0->ru-core-news-sm==3.2.0) (2.0.6)\n",
            "Requirement already satisfied: spacy-legacy<3.1.0,>=3.0.8 in /usr/local/lib/python3.7/dist-packages (from spacy<3.3.0,>=3.2.0->ru-core-news-sm==3.2.0) (3.0.9)\n",
            "Requirement already satisfied: requests<3.0.0,>=2.13.0 in /usr/local/lib/python3.7/dist-packages (from spacy<3.3.0,>=3.2.0->ru-core-news-sm==3.2.0) (2.23.0)\n",
            "Requirement already satisfied: thinc<8.1.0,>=8.0.12 in /usr/local/lib/python3.7/dist-packages (from spacy<3.3.0,>=3.2.0->ru-core-news-sm==3.2.0) (8.0.15)\n",
            "Requirement already satisfied: srsly<3.0.0,>=2.4.1 in /usr/local/lib/python3.7/dist-packages (from spacy<3.3.0,>=3.2.0->ru-core-news-sm==3.2.0) (2.4.2)\n",
            "Requirement already satisfied: cymem<2.1.0,>=2.0.2 in /usr/local/lib/python3.7/dist-packages (from spacy<3.3.0,>=3.2.0->ru-core-news-sm==3.2.0) (2.0.6)\n",
            "Requirement already satisfied: pathy>=0.3.5 in /usr/local/lib/python3.7/dist-packages (from spacy<3.3.0,>=3.2.0->ru-core-news-sm==3.2.0) (0.6.1)\n",
            "Requirement already satisfied: packaging>=20.0 in /usr/local/lib/python3.7/dist-packages (from spacy<3.3.0,>=3.2.0->ru-core-news-sm==3.2.0) (21.3)\n",
            "Requirement already satisfied: spacy-loggers<2.0.0,>=1.0.0 in /usr/local/lib/python3.7/dist-packages (from spacy<3.3.0,>=3.2.0->ru-core-news-sm==3.2.0) (1.0.1)\n",
            "Requirement already satisfied: zipp>=0.5 in /usr/local/lib/python3.7/dist-packages (from catalogue<2.1.0,>=2.0.6->spacy<3.3.0,>=3.2.0->ru-core-news-sm==3.2.0) (3.7.0)\n",
            "Requirement already satisfied: pyparsing!=3.0.5,>=2.0.2 in /usr/local/lib/python3.7/dist-packages (from packaging>=20.0->spacy<3.3.0,>=3.2.0->ru-core-news-sm==3.2.0) (3.0.7)\n",
            "Requirement already satisfied: smart-open<6.0.0,>=5.0.0 in /usr/local/lib/python3.7/dist-packages (from pathy>=0.3.5->spacy<3.3.0,>=3.2.0->ru-core-news-sm==3.2.0) (5.2.1)\n",
            "Requirement already satisfied: idna<3,>=2.5 in /usr/local/lib/python3.7/dist-packages (from requests<3.0.0,>=2.13.0->spacy<3.3.0,>=3.2.0->ru-core-news-sm==3.2.0) (2.10)\n",
            "Requirement already satisfied: urllib3!=1.25.0,!=1.25.1,<1.26,>=1.21.1 in /usr/local/lib/python3.7/dist-packages (from requests<3.0.0,>=2.13.0->spacy<3.3.0,>=3.2.0->ru-core-news-sm==3.2.0) (1.24.3)\n",
            "Requirement already satisfied: chardet<4,>=3.0.2 in /usr/local/lib/python3.7/dist-packages (from requests<3.0.0,>=2.13.0->spacy<3.3.0,>=3.2.0->ru-core-news-sm==3.2.0) (3.0.4)\n",
            "Requirement already satisfied: certifi>=2017.4.17 in /usr/local/lib/python3.7/dist-packages (from requests<3.0.0,>=2.13.0->spacy<3.3.0,>=3.2.0->ru-core-news-sm==3.2.0) (2021.10.8)\n",
            "Requirement already satisfied: click<9.0.0,>=7.1.1 in /usr/local/lib/python3.7/dist-packages (from typer<0.5.0,>=0.3.0->spacy<3.3.0,>=3.2.0->ru-core-news-sm==3.2.0) (7.1.2)\n",
            "Requirement already satisfied: MarkupSafe>=0.23 in /usr/local/lib/python3.7/dist-packages (from jinja2->spacy<3.3.0,>=3.2.0->ru-core-news-sm==3.2.0) (2.0.1)\n",
            "Building wheels for collected packages: ru-core-news-sm\n",
            "  Building wheel for ru-core-news-sm (setup.py) ... \u001b[?25l\u001b[?25hdone\n",
            "  Created wheel for ru-core-news-sm: filename=ru_core_news_sm-3.2.0-py3-none-any.whl size=16374333 sha256=f3b1aaf3349e9132c13780b7f7ad72ee73ebdc3082ea81da9e5a701b8836deb8\n",
            "  Stored in directory: /root/.cache/pip/wheels/e1/2e/30/5c2c73d11920c700105eee755f616dbfaab9da735eeeb1348f\n",
            "Successfully built ru-core-news-sm\n",
            "Installing collected packages: pymorphy2-dicts-ru, dawg-python, pymorphy2, ru-core-news-sm\n",
            "Successfully installed dawg-python-0.7.2 pymorphy2-0.9.1 pymorphy2-dicts-ru-2.4.417127.4579844 ru-core-news-sm-3.2.0\n"
          ]
        }
      ],
      "source": [
        "!pip install spacy\n",
        "!pip install --upgrade spacy\n",
        "!pip install https://github.com/explosion/spacy-models/releases/download/ru_core_news_sm-3.2.0/ru_core_news_sm-3.2.0.tar.gz\n"
      ]
    },
    {
      "cell_type": "code",
      "source": [
        "import pandas as pd\n",
        "import re\n",
        "import math\n",
        "import spacy\n",
        "import pymorphy2\n",
        "from pathlib import Path\n",
        "from pymystem3 import Mystem\n",
        "from string import punctuation\n",
        "from spacy.lang.ru import Russian\n",
        "from pymorphy2 import MorphAnalyzer\n",
        "from spacy.lang.ru.stop_words import STOP_WORDS\n",
        "from sklearn.feature_extraction.text import TfidfVectorizer\n"
      ],
      "metadata": {
        "id": "vQpmfscpS9zt"
      },
      "execution_count": null,
      "outputs": []
    },
    {
      "cell_type": "code",
      "execution_count": null,
      "metadata": {
        "colab": {
          "base_uri": "https://localhost:8080/"
        },
        "id": "peXZ62k-yS58",
        "outputId": "c2421c60-3dcf-43ed-ad34-80d3ebd0c337"
      },
      "outputs": [
        {
          "output_type": "stream",
          "name": "stdout",
          "text": [
            "{'Рослый', 'требовалось', 'тд', 'которых', 'превентивно', 'одним', 'только', 'самому', 'едят', 'которое', 'так', 'далеко', 'оснащена', 'этим', 'была', 'ком', 'неё', 'такое', 'что', 'эти', 'мы', 'доступен', 'такому', 'и', 'февраля', 'Добавили', 'свой', 'свое', 'но', 'мог', 'он', 'которой', 'себя', 'тому', 'могли', 'одною', 'будьте', 'её', 'о', 'самими', 'всею', 'во', 'ест', 'исчез', 'всё', 'еще', 'моих', 'из', 'каждый', 'будешь', 'будем', 'в', 'самом', 'Лада', 'вовсе', 'она', 'котором', 'этого', 'объемом', 'такими', 'одни', 'царапается', 'моё', 'оне', 'такого', 'когда', 'мой', 'бы', 'такой', 'нашими', 'был', 'покупателей', 'своё', 'нашего', 'появятся', 'следующего', 'меня', 'своей', 'ему', 'можете', 'всего', 'нашим', 'своего', 'были', 'всю', 'моего', 'Туссана', 'очечник', 'например', 'выиграть', 'нами', 'моторнотрансмиссионных', 'изменился', 'всему', 'тобой', 'чему', 'наша', 'до', 'Семиместная', 'слабо', 'всей', 'при', 'ем', 'пьян', 'них', 'таких', 'кто', 'комья', 'тебя', 'USBпорт', 'вот', 'самим', 'этот', 'Дастера', 'тебе', 'едим', 'проголосовать', 'Выбирай', 'вся', 'безнаддувных', 'тот', 'такие', 'Вдобавок', 'они', 'может', 'моем', 'одному', 'тобою', 'тою', 'себе', 'которая', 'этими', 'анкету', 'моею', 'которою', 'этих', 'Sorento', 'эту', 'изменилась', 'могла', 'для', 'наших', 'это', 'Тоже', 'нашем', 'которого', 'гидротрансформаторным', 'моему', 'млн', 'ко', 'атмосферникам', 'стало', 'с', 'нет', 'стереотипам', 'своими', 'сама', 'мне', 'собой', 'есть', 'те', 'также', 'одних', 'моим', 'Джолион', 'моги', 'вам', 'ее', 'увеличился', 'появляются', 'четверых', 'вас', 'каждом', 'будучи', 'сами', 'кому', 'нее', 'этом', 'Индонезии', 'ими', 'Creta', 'за', 'WD', 'Крете', 'ним', 'свою', 'нему', 'буду', 'Включаешь', 'или', 'чём', 'Каждый', 'могло', 'сам', 'этому', 'своим', 'смотрят', 'тем', 'которым', 'самого', 'само', 'знает', 'одного', 'одной', 'ними', 'одно', 'свои', 'всех', 'будет', 'можешь', 'своею', 'скопирована', 'их', 'к', 'наше', 'будут', 'моя', 'могите', 'одними', 'ту', 'все', 'одиннадцати', 'ещё', 'появились', 'то', 'недалеко', 'моей', 'если', 'покупателям', 'предлагают', 'турбонаддувом', 'этой', 'мочь', 'всём', 'та', 'галогеновыми', 'же', 'изжитым', 'ей', 'будь', 'бензиновым', 'ела', 'всеми', 'его', 'нею', 'выглядят', 'ДаKia', 'нём', 'удается', 'которую', 'Сзади', 'сплошь', 'одном', 'бьет', 'ел', 'не', 'Крету', 'томах', 'ею', 'да', 'у', 'кем', 'одну', 'могу', 'приветствовать', 'мое', 'многим', 'всея', 'выглядит', 'как', 'по', 'надежности', 'изящно', 'превратилась', 'защищают', '–', 'нашу', 'нашему', 'оно', 'посмотреть', 'стереотип', 'чего', 'своя', 'выбрать', 'Jolion', 'своем', 'кого', 'ешь', 'которому', 'ней', 'собою', 'Возможно', 'нам', 'эта', 'китайцы', 'наса', 'всем', 'моём', 'завершится', 'мной', 'получаешь', 'своему', 'мною', 'от', 'могут', 'Hyundai', 'наши', 'мои', 'Haval', 'претензии', 'светят', 'ощупь', 'чем', 'такою', 'Хавейла', 'имъ', 'сочетая', 'который', 'нашей', 'Настолько', 'режущую', 'ты', 'Duster', 'мою', 'нашею', 'один', 'том', 'такую', 'уже', 'вами', 'об', 'я', 'оштрафуют', 'можем', 'нас', 'корейского', 'Заполнить', 'ступенчатые', 'было', 'него', 'постепенно', 'скептически', 'этою', 'обзаводятся', 'своих', 'такая', 'чтобы', 'своём', 'той', 'тех', 'им', 'теми', 'Голосование', 'наш', 'которые', 'одна', 'быть', 'эпатажника', 'весь', 'моими', 'саму', 'Вкласса', 'Кретой', 'будете', 'нем', 'которыми', 'самих', 'ждет', 'заставляют', 'вы', 'замаскировать', 'емъ', 'таким', 'на', 'таком', 'а', 'того'}\n"
          ]
        }
      ],
      "source": [
        "nlp = spacy.load('ru_core_news_sm') \n",
        "nlp.Defaults.stop_words |= {\"например\", \"также\", \"тд\", \"–\", \n",
        "\"Туссана\", \"Creta\", \"Hyundai\", \"сплошь\", \"Возможно\", \"оснащена\",\n",
        "\"WD\", \"приветствовать\", \"выглядит\",\"Вдобавок\", \"Сзади\", \"Тоже\", \n",
        "\"появились\", \"стало\", \"изменилась\", \"обзаводятся\", \"Дастера\",\n",
        "\"китайцы\",\"многим\", \"корейского\", \"появятся\", \"безнаддувных\",\n",
        "\"выиграть\", \"Лада\", \"проголосовать\", \"выбрать\", \"одиннадцати\", \n",
        "\"Заполнить\",\"анкету\",\"Голосование\",\"завершится\",\"февраля\",\n",
        "\"Каждый\",\"каждый\",\"изменился\",\"стереотип\",\"стереотипам\",\n",
        "\"изжитым\",\"бензиновым\",\"атмосферникам\",\"гидротрансформаторным\",\n",
        "\"покупателям\",\"ДаKia\",\"Sorento\",\"Выбирай\",\"предлагают\",\"Duster\",\n",
        "\"Haval\",\"Jolion\",\"вовсе\",\"моторнотрансмиссионных\",\"доступен\",\"сочетая\",\n",
        "\"Семиместная\",\"Крете\",\"USBпорт\",\"исчез\",\"очечник\",\"Добавили\",\"Крету\",\n",
        "\"требовалось\",\"четверых\",\"Рослый\",\"Хавейла\",\"Джолион\",\"далеко\",\n",
        "\"увеличился\",\"заставляют\",\"покупателей\",\"посмотреть\",\"превратилась\",\n",
        "\"эпатажника\",\"смотрят\",\"скептически\",\"Индонезии\",\"скопирована\",\n",
        "\"знает\",\"выглядят\",\"светят\",\"слабо\",\"бьет\",\"недалеко\",\"галогеновыми\",\n",
        "\"Включаешь\",\"получаешь\", \"режущую\",\"Вкласса\",\"ждет\",\"удается\",\"изящно\",\n",
        "\"замаскировать\",\"Кретой\",\"царапается\",\"ощупь\",\"царапается\",\"Настолько\",\n",
        "\"превентивно\",\"защищают\",\"млн\",\"постепенно\",\"появляются\",\"турбонаддувом\",\n",
        "\"надежности\",\"претензии\",\"следующего\",\"объемом\",\"ступенчатые\",\"каждом\",\n",
        "\"пьян\",\"оштрафуют\",}\n",
        "print(nlp.Defaults.stop_words)\n"
      ]
    },
    {
      "cell_type": "code",
      "execution_count": null,
      "metadata": {
        "id": "P-dBq9lmBjql"
      },
      "outputs": [],
      "source": [
        "st1 = 'tes1'\n",
        "st2 = 'tes2'\n",
        "st3 = 'tes3'\n",
        "st4 =  'st4'\n",
        "st5 = 'st5'\n",
        "st6 = 'st6'\n",
        "st7 = 'st7'\n",
        "st8 = 'st8'\n",
        "st9 = 'st9'\n",
        "st10 = 'st10'\n",
        "st11 = 'st11'\n",
        "st12 = 'st12'\n",
        "st13 = 'st13'\n",
        "st14 = 'st14'\n",
        "st15 = 'st15'\n",
        "st16 = 'st16'\n",
        "st17 = 'st17'\n",
        "st18 = 'st18' \n",
        "st19 = 'st19'\n",
        "st20 = 'st20'\n",
        "st21 = 'st21'\n",
        "st22 = 'st22'\n",
        "st23 = 'st23'\n",
        "st24 = 'st24'\n",
        "st25 = 'st25'\n",
        "st26 = 'st26'\n",
        "st27 = 'st27'\n",
        "st28 = 'st28'\n",
        "st29 = 'st29'\n",
        "st30 = 'st30'"
      ]
    },
    {
      "cell_type": "code",
      "execution_count": null,
      "metadata": {
        "id": "sVrMIk9tsrH1"
      },
      "outputs": [],
      "source": [
        "#def tf(word, blob):\n",
        "#   return (float)(blob.words.count(word)) / (float)(len(blob.words))\n",
        "\n",
        "#def n_containing(word, bloblist):\n",
        "#    return (sum(1 for blob in bloblist if word in blob))\n",
        "\n",
        "#def idf(word, bloblist):\n",
        "#    return (math.log((len(bloblist)) /(1 + n_containing(word, bloblist))))\n",
        "\n",
        "#def tfidf(word, blob, bloblist):\n",
        "#    return (float)((float)(tf(word, blob)) * (float)(idf(word, bloblist)))\n",
        "\n",
        "def stopword(text):\n",
        "    marks = '''!()-[]{};?@#$%:'\"\\,./^&;*_—≈1234567890»«…'''\n",
        "    for c in marks:\n",
        "       text = text.replace(c, '') \n",
        "    nlp = spacy.load('ru_core_news_sm')\n",
        "    my_doc = nlp(text)\n",
        "    morph = pymorphy2.MorphAnalyzer()\n",
        "\n",
        "    token_list = []\n",
        "    for token in my_doc:\n",
        "         token_list.append(token.text)\n",
        "\n",
        "    filtered_sentence =[] \n",
        "\n",
        "    for word in token_list:\n",
        "        p = morph.parse(word)[0]\n",
        "        lexeme = nlp.vocab[p.normal_form]\n",
        "        if lexeme.is_stop == False:\n",
        "            filtered_sentence.append(p.normal_form) \n",
        "    with open('listfile.txt', 'w') as filehandle:\n",
        "       for listitem in filtered_sentence:\n",
        "          filehandle.write('%s\\n' % listitem)\n",
        "    filehandle = open(\"listfile.txt\").read()\n",
        "    open(\"listfile.txt\", \"w\").close()\n",
        "    return filehandle\n",
        "def stopword1(text):\n",
        "    marks = '''!()-[]{};?@#$%:'\"\\,./^&;*_—≈1234567890»«…'''\n",
        "    for c in marks:\n",
        "       text = text.replace(c, '') \n",
        "    nlp = spacy.load('ru_core_news_sm')\n",
        "    my_doc = nlp(text)\n",
        "\n",
        "\n",
        "    token_list = []\n",
        "    for token in my_doc:\n",
        "         token_list.append(token.text)\n",
        "\n",
        "    filtered_sentence =[] \n",
        "\n",
        "    for word in token_list:\n",
        "        lexeme = nlp.vocab[word]\n",
        "        if lexeme.is_stop == False:\n",
        "            filtered_sentence.append(word) \n",
        "    with open('listfile.txt', 'w') as filehandle:\n",
        "       for listitem in filtered_sentence:\n",
        "          filehandle.write('%s\\n' % listitem)\n",
        "    filehandle = open(\"listfile.txt\").read()\n",
        "    open(\"listfile.txt\", \"w\").close()\n",
        "    return filehandle\n",
        "def fileopen(infile):\n",
        "   infile = stopword(open('%s.txt' % infile, 'r').read())\n",
        "   return infile\n",
        "def document(text):\n",
        "   text = fileopen(text)\n",
        "   return text"
      ]
    },
    {
      "cell_type": "code",
      "source": [
        "#Creating a list of texts\n",
        "bloblist = [document(st1), document(st2), document(st3)] \n"
      ],
      "metadata": {
        "id": "dbBcnCtqZX3a"
      },
      "execution_count": null,
      "outputs": []
    },
    {
      "cell_type": "code",
      "source": [
        "pattern = r\"\\s*[А-Я]{3}\\s*\"\n",
        "newblob = re.sub(pattern, bloblist)\n",
        "print(newblob)"
      ],
      "metadata": {
        "colab": {
          "base_uri": "https://localhost:8080/",
          "height": 200
        },
        "id": "pmxqbSDXJ4w4",
        "outputId": "40e2111a-a4f0-468d-e70e-39aedc37e4f4"
      },
      "execution_count": null,
      "outputs": [
        {
          "output_type": "error",
          "ename": "TypeError",
          "evalue": "ignored",
          "traceback": [
            "\u001b[0;31m---------------------------------------------------------------------------\u001b[0m",
            "\u001b[0;31mTypeError\u001b[0m                                 Traceback (most recent call last)",
            "\u001b[0;32m<ipython-input-6-55639292aca6>\u001b[0m in \u001b[0;36m<module>\u001b[0;34m()\u001b[0m\n\u001b[1;32m      1\u001b[0m \u001b[0mpattern\u001b[0m \u001b[0;34m=\u001b[0m \u001b[0;34mr\"[А-Я]{3}\"\u001b[0m\u001b[0;34m\u001b[0m\u001b[0;34m\u001b[0m\u001b[0m\n\u001b[0;32m----> 2\u001b[0;31m \u001b[0mnewblob\u001b[0m \u001b[0;34m=\u001b[0m \u001b[0mre\u001b[0m\u001b[0;34m.\u001b[0m\u001b[0msub\u001b[0m\u001b[0;34m(\u001b[0m\u001b[0mpattern\u001b[0m\u001b[0;34m,\u001b[0m \u001b[0mbloblist\u001b[0m\u001b[0;34m)\u001b[0m\u001b[0;34m\u001b[0m\u001b[0;34m\u001b[0m\u001b[0m\n\u001b[0m\u001b[1;32m      3\u001b[0m \u001b[0mprint\u001b[0m\u001b[0;34m(\u001b[0m\u001b[0mnewblob\u001b[0m\u001b[0;34m)\u001b[0m\u001b[0;34m\u001b[0m\u001b[0;34m\u001b[0m\u001b[0m\n",
            "\u001b[0;31mTypeError\u001b[0m: sub() missing 1 required positional argument: 'string'"
          ]
        }
      ]
    },
    {
      "cell_type": "code",
      "source": [
        "fout = open(\"output.txt\", \"w\") \n",
        "tfIdfVectorizer=TfidfVectorizer(use_idf=True)\n",
        "tfIdfVectorizer.fit(bloblist)\n",
        "tfIdf = tfIdfVectorizer.transform([bloblist[0]])\n",
        "df = pd.DataFrame(tfIdf.T.todense(), index=tfIdfVectorizer.get_feature_names_out(), columns=[\"TF-IDF\"])\n",
        "df = df.sort_values('TF-IDF', ascending=False)\n",
        "df = df[(df > 0).all(axis=1)]\n",
        "print(list(df.index), file = fout)"
      ],
      "metadata": {
        "id": "DiIZSG0WVKpt"
      },
      "execution_count": null,
      "outputs": []
    },
    {
      "cell_type": "code",
      "source": [
        "n = open(\"nouns.txt\", \"w\") #removing parts of speech\n",
        "infile = stopword(open(\"output.txt\", \"r\").read()) \n",
        "infile = re.sub(\"[^\\w]\", \" \",  infile).split()\n",
        "words = infile\n",
        "morph = MorphAnalyzer()\n",
        "items = [(str(morph.parse(w)[0].tag.POS), w) for w in words]\n",
        "for word, score in items[:]:\n",
        "  if word == 'NOUN':\n",
        "        print((score),file=n)"
      ],
      "metadata": {
        "id": "8WpFD3eUHPUY"
      },
      "execution_count": null,
      "outputs": []
    },
    {
      "cell_type": "code",
      "execution_count": null,
      "metadata": {
        "id": "seqSLuNIhwbw"
      },
      "outputs": [],
      "source": [
        "a = open(\"adjf.txt\", \"w\") \n",
        "for word, score in items[:]:\n",
        "  if word == 'ADJF':\n",
        "        print((score),file=a)"
      ]
    }
  ]
}