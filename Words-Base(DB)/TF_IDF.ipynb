{
  "nbformat": 4,
  "nbformat_minor": 0,
  "metadata": {
    "colab": {
      "name": "TF-IDF.ipynb",
      "provenance": [],
      "collapsed_sections": []
    },
    "kernelspec": {
      "name": "python3",
      "display_name": "Python 3"
    },
    "language_info": {
      "name": "python"
    }
  },
  "cells": [
    {
      "cell_type": "code",
      "execution_count": 1,
      "metadata": {
        "id": "KsPZHSmv6n9y",
        "colab": {
          "base_uri": "https://localhost:8080/"
        },
        "outputId": "c3c34a3a-67e2-4d35-99d1-0d07018ad0ae"
      },
      "outputs": [
        {
          "output_type": "stream",
          "name": "stdout",
          "text": [
            "Requirement already satisfied: spacy in /usr/local/lib/python3.7/dist-packages (3.2.3)\n",
            "Requirement already satisfied: catalogue<2.1.0,>=2.0.6 in /usr/local/lib/python3.7/dist-packages (from spacy) (2.0.6)\n",
            "Requirement already satisfied: pathy>=0.3.5 in /usr/local/lib/python3.7/dist-packages (from spacy) (0.6.1)\n",
            "Requirement already satisfied: preshed<3.1.0,>=3.0.2 in /usr/local/lib/python3.7/dist-packages (from spacy) (3.0.6)\n",
            "Requirement already satisfied: packaging>=20.0 in /usr/local/lib/python3.7/dist-packages (from spacy) (21.3)\n",
            "Requirement already satisfied: tqdm<5.0.0,>=4.38.0 in /usr/local/lib/python3.7/dist-packages (from spacy) (4.63.0)\n",
            "Requirement already satisfied: pydantic!=1.8,!=1.8.1,<1.9.0,>=1.7.4 in /usr/local/lib/python3.7/dist-packages (from spacy) (1.8.2)\n",
            "Requirement already satisfied: numpy>=1.15.0 in /usr/local/lib/python3.7/dist-packages (from spacy) (1.21.5)\n",
            "Requirement already satisfied: srsly<3.0.0,>=2.4.1 in /usr/local/lib/python3.7/dist-packages (from spacy) (2.4.2)\n",
            "Requirement already satisfied: blis<0.8.0,>=0.4.0 in /usr/local/lib/python3.7/dist-packages (from spacy) (0.4.1)\n",
            "Requirement already satisfied: thinc<8.1.0,>=8.0.12 in /usr/local/lib/python3.7/dist-packages (from spacy) (8.0.15)\n",
            "Requirement already satisfied: cymem<2.1.0,>=2.0.2 in /usr/local/lib/python3.7/dist-packages (from spacy) (2.0.6)\n",
            "Requirement already satisfied: requests<3.0.0,>=2.13.0 in /usr/local/lib/python3.7/dist-packages (from spacy) (2.23.0)\n",
            "Requirement already satisfied: jinja2 in /usr/local/lib/python3.7/dist-packages (from spacy) (2.11.3)\n",
            "Requirement already satisfied: typer<0.5.0,>=0.3.0 in /usr/local/lib/python3.7/dist-packages (from spacy) (0.4.0)\n",
            "Requirement already satisfied: spacy-legacy<3.1.0,>=3.0.8 in /usr/local/lib/python3.7/dist-packages (from spacy) (3.0.9)\n",
            "Requirement already satisfied: wasabi<1.1.0,>=0.8.1 in /usr/local/lib/python3.7/dist-packages (from spacy) (0.9.0)\n",
            "Requirement already satisfied: langcodes<4.0.0,>=3.2.0 in /usr/local/lib/python3.7/dist-packages (from spacy) (3.3.0)\n",
            "Requirement already satisfied: setuptools in /usr/local/lib/python3.7/dist-packages (from spacy) (57.4.0)\n",
            "Requirement already satisfied: murmurhash<1.1.0,>=0.28.0 in /usr/local/lib/python3.7/dist-packages (from spacy) (1.0.6)\n",
            "Requirement already satisfied: typing-extensions<4.0.0.0,>=3.7.4 in /usr/local/lib/python3.7/dist-packages (from spacy) (3.10.0.2)\n",
            "Requirement already satisfied: spacy-loggers<2.0.0,>=1.0.0 in /usr/local/lib/python3.7/dist-packages (from spacy) (1.0.1)\n",
            "Requirement already satisfied: zipp>=0.5 in /usr/local/lib/python3.7/dist-packages (from catalogue<2.1.0,>=2.0.6->spacy) (3.7.0)\n",
            "Requirement already satisfied: pyparsing!=3.0.5,>=2.0.2 in /usr/local/lib/python3.7/dist-packages (from packaging>=20.0->spacy) (3.0.7)\n",
            "Requirement already satisfied: smart-open<6.0.0,>=5.0.0 in /usr/local/lib/python3.7/dist-packages (from pathy>=0.3.5->spacy) (5.2.1)\n",
            "Requirement already satisfied: urllib3!=1.25.0,!=1.25.1,<1.26,>=1.21.1 in /usr/local/lib/python3.7/dist-packages (from requests<3.0.0,>=2.13.0->spacy) (1.24.3)\n",
            "Requirement already satisfied: chardet<4,>=3.0.2 in /usr/local/lib/python3.7/dist-packages (from requests<3.0.0,>=2.13.0->spacy) (3.0.4)\n",
            "Requirement already satisfied: idna<3,>=2.5 in /usr/local/lib/python3.7/dist-packages (from requests<3.0.0,>=2.13.0->spacy) (2.10)\n",
            "Requirement already satisfied: certifi>=2017.4.17 in /usr/local/lib/python3.7/dist-packages (from requests<3.0.0,>=2.13.0->spacy) (2021.10.8)\n",
            "Requirement already satisfied: click<9.0.0,>=7.1.1 in /usr/local/lib/python3.7/dist-packages (from typer<0.5.0,>=0.3.0->spacy) (7.1.2)\n",
            "Requirement already satisfied: MarkupSafe>=0.23 in /usr/local/lib/python3.7/dist-packages (from jinja2->spacy) (2.0.1)\n",
            "Requirement already satisfied: spacy in /usr/local/lib/python3.7/dist-packages (3.2.3)\n",
            "Requirement already satisfied: preshed<3.1.0,>=3.0.2 in /usr/local/lib/python3.7/dist-packages (from spacy) (3.0.6)\n",
            "Requirement already satisfied: langcodes<4.0.0,>=3.2.0 in /usr/local/lib/python3.7/dist-packages (from spacy) (3.3.0)\n",
            "Requirement already satisfied: blis<0.8.0,>=0.4.0 in /usr/local/lib/python3.7/dist-packages (from spacy) (0.4.1)\n",
            "Requirement already satisfied: jinja2 in /usr/local/lib/python3.7/dist-packages (from spacy) (2.11.3)\n",
            "Requirement already satisfied: requests<3.0.0,>=2.13.0 in /usr/local/lib/python3.7/dist-packages (from spacy) (2.23.0)\n",
            "Requirement already satisfied: typing-extensions<4.0.0.0,>=3.7.4 in /usr/local/lib/python3.7/dist-packages (from spacy) (3.10.0.2)\n",
            "Requirement already satisfied: wasabi<1.1.0,>=0.8.1 in /usr/local/lib/python3.7/dist-packages (from spacy) (0.9.0)\n",
            "Requirement already satisfied: spacy-legacy<3.1.0,>=3.0.8 in /usr/local/lib/python3.7/dist-packages (from spacy) (3.0.9)\n",
            "Requirement already satisfied: tqdm<5.0.0,>=4.38.0 in /usr/local/lib/python3.7/dist-packages (from spacy) (4.63.0)\n",
            "Requirement already satisfied: thinc<8.1.0,>=8.0.12 in /usr/local/lib/python3.7/dist-packages (from spacy) (8.0.15)\n",
            "Requirement already satisfied: cymem<2.1.0,>=2.0.2 in /usr/local/lib/python3.7/dist-packages (from spacy) (2.0.6)\n",
            "Requirement already satisfied: pydantic!=1.8,!=1.8.1,<1.9.0,>=1.7.4 in /usr/local/lib/python3.7/dist-packages (from spacy) (1.8.2)\n",
            "Requirement already satisfied: packaging>=20.0 in /usr/local/lib/python3.7/dist-packages (from spacy) (21.3)\n",
            "Requirement already satisfied: pathy>=0.3.5 in /usr/local/lib/python3.7/dist-packages (from spacy) (0.6.1)\n",
            "Requirement already satisfied: catalogue<2.1.0,>=2.0.6 in /usr/local/lib/python3.7/dist-packages (from spacy) (2.0.6)\n",
            "Requirement already satisfied: murmurhash<1.1.0,>=0.28.0 in /usr/local/lib/python3.7/dist-packages (from spacy) (1.0.6)\n",
            "Requirement already satisfied: setuptools in /usr/local/lib/python3.7/dist-packages (from spacy) (57.4.0)\n",
            "Requirement already satisfied: srsly<3.0.0,>=2.4.1 in /usr/local/lib/python3.7/dist-packages (from spacy) (2.4.2)\n",
            "Requirement already satisfied: spacy-loggers<2.0.0,>=1.0.0 in /usr/local/lib/python3.7/dist-packages (from spacy) (1.0.1)\n",
            "Requirement already satisfied: typer<0.5.0,>=0.3.0 in /usr/local/lib/python3.7/dist-packages (from spacy) (0.4.0)\n",
            "Requirement already satisfied: numpy>=1.15.0 in /usr/local/lib/python3.7/dist-packages (from spacy) (1.21.5)\n",
            "Requirement already satisfied: zipp>=0.5 in /usr/local/lib/python3.7/dist-packages (from catalogue<2.1.0,>=2.0.6->spacy) (3.7.0)\n",
            "Requirement already satisfied: pyparsing!=3.0.5,>=2.0.2 in /usr/local/lib/python3.7/dist-packages (from packaging>=20.0->spacy) (3.0.7)\n",
            "Requirement already satisfied: smart-open<6.0.0,>=5.0.0 in /usr/local/lib/python3.7/dist-packages (from pathy>=0.3.5->spacy) (5.2.1)\n",
            "Requirement already satisfied: chardet<4,>=3.0.2 in /usr/local/lib/python3.7/dist-packages (from requests<3.0.0,>=2.13.0->spacy) (3.0.4)\n",
            "Requirement already satisfied: idna<3,>=2.5 in /usr/local/lib/python3.7/dist-packages (from requests<3.0.0,>=2.13.0->spacy) (2.10)\n",
            "Requirement already satisfied: urllib3!=1.25.0,!=1.25.1,<1.26,>=1.21.1 in /usr/local/lib/python3.7/dist-packages (from requests<3.0.0,>=2.13.0->spacy) (1.24.3)\n",
            "Requirement already satisfied: certifi>=2017.4.17 in /usr/local/lib/python3.7/dist-packages (from requests<3.0.0,>=2.13.0->spacy) (2021.10.8)\n",
            "Requirement already satisfied: click<9.0.0,>=7.1.1 in /usr/local/lib/python3.7/dist-packages (from typer<0.5.0,>=0.3.0->spacy) (7.1.2)\n",
            "Requirement already satisfied: MarkupSafe>=0.23 in /usr/local/lib/python3.7/dist-packages (from jinja2->spacy) (2.0.1)\n",
            "Collecting https://github.com/explosion/spacy-models/releases/download/ru_core_news_sm-3.2.0/ru_core_news_sm-3.2.0.tar.gz\n",
            "  Downloading https://github.com/explosion/spacy-models/releases/download/ru_core_news_sm-3.2.0/ru_core_news_sm-3.2.0.tar.gz (16.2 MB)\n",
            "\u001b[K     |████████████████████████████████| 16.2 MB 2.6 MB/s \n",
            "\u001b[?25hRequirement already satisfied: spacy<3.3.0,>=3.2.0 in /usr/local/lib/python3.7/dist-packages (from ru-core-news-sm==3.2.0) (3.2.3)\n",
            "Requirement already satisfied: pymorphy2>=0.9 in /usr/local/lib/python3.7/dist-packages (from ru-core-news-sm==3.2.0) (0.9.1)\n",
            "Requirement already satisfied: pymorphy2-dicts-ru<3.0,>=2.4 in /usr/local/lib/python3.7/dist-packages (from pymorphy2>=0.9->ru-core-news-sm==3.2.0) (2.4.417127.4579844)\n",
            "Requirement already satisfied: dawg-python>=0.7.1 in /usr/local/lib/python3.7/dist-packages (from pymorphy2>=0.9->ru-core-news-sm==3.2.0) (0.7.2)\n",
            "Requirement already satisfied: docopt>=0.6 in /usr/local/lib/python3.7/dist-packages (from pymorphy2>=0.9->ru-core-news-sm==3.2.0) (0.6.2)\n",
            "Requirement already satisfied: typing-extensions<4.0.0.0,>=3.7.4 in /usr/local/lib/python3.7/dist-packages (from spacy<3.3.0,>=3.2.0->ru-core-news-sm==3.2.0) (3.10.0.2)\n",
            "Requirement already satisfied: jinja2 in /usr/local/lib/python3.7/dist-packages (from spacy<3.3.0,>=3.2.0->ru-core-news-sm==3.2.0) (2.11.3)\n",
            "Requirement already satisfied: setuptools in /usr/local/lib/python3.7/dist-packages (from spacy<3.3.0,>=3.2.0->ru-core-news-sm==3.2.0) (57.4.0)\n",
            "Requirement already satisfied: cymem<2.1.0,>=2.0.2 in /usr/local/lib/python3.7/dist-packages (from spacy<3.3.0,>=3.2.0->ru-core-news-sm==3.2.0) (2.0.6)\n",
            "Requirement already satisfied: numpy>=1.15.0 in /usr/local/lib/python3.7/dist-packages (from spacy<3.3.0,>=3.2.0->ru-core-news-sm==3.2.0) (1.21.5)\n",
            "Requirement already satisfied: pydantic!=1.8,!=1.8.1,<1.9.0,>=1.7.4 in /usr/local/lib/python3.7/dist-packages (from spacy<3.3.0,>=3.2.0->ru-core-news-sm==3.2.0) (1.8.2)\n",
            "Requirement already satisfied: pathy>=0.3.5 in /usr/local/lib/python3.7/dist-packages (from spacy<3.3.0,>=3.2.0->ru-core-news-sm==3.2.0) (0.6.1)\n",
            "Requirement already satisfied: wasabi<1.1.0,>=0.8.1 in /usr/local/lib/python3.7/dist-packages (from spacy<3.3.0,>=3.2.0->ru-core-news-sm==3.2.0) (0.9.0)\n",
            "Requirement already satisfied: murmurhash<1.1.0,>=0.28.0 in /usr/local/lib/python3.7/dist-packages (from spacy<3.3.0,>=3.2.0->ru-core-news-sm==3.2.0) (1.0.6)\n",
            "Requirement already satisfied: tqdm<5.0.0,>=4.38.0 in /usr/local/lib/python3.7/dist-packages (from spacy<3.3.0,>=3.2.0->ru-core-news-sm==3.2.0) (4.63.0)\n",
            "Requirement already satisfied: spacy-legacy<3.1.0,>=3.0.8 in /usr/local/lib/python3.7/dist-packages (from spacy<3.3.0,>=3.2.0->ru-core-news-sm==3.2.0) (3.0.9)\n",
            "Requirement already satisfied: blis<0.8.0,>=0.4.0 in /usr/local/lib/python3.7/dist-packages (from spacy<3.3.0,>=3.2.0->ru-core-news-sm==3.2.0) (0.4.1)\n",
            "Requirement already satisfied: preshed<3.1.0,>=3.0.2 in /usr/local/lib/python3.7/dist-packages (from spacy<3.3.0,>=3.2.0->ru-core-news-sm==3.2.0) (3.0.6)\n",
            "Requirement already satisfied: typer<0.5.0,>=0.3.0 in /usr/local/lib/python3.7/dist-packages (from spacy<3.3.0,>=3.2.0->ru-core-news-sm==3.2.0) (0.4.0)\n",
            "Requirement already satisfied: srsly<3.0.0,>=2.4.1 in /usr/local/lib/python3.7/dist-packages (from spacy<3.3.0,>=3.2.0->ru-core-news-sm==3.2.0) (2.4.2)\n",
            "Requirement already satisfied: catalogue<2.1.0,>=2.0.6 in /usr/local/lib/python3.7/dist-packages (from spacy<3.3.0,>=3.2.0->ru-core-news-sm==3.2.0) (2.0.6)\n",
            "Requirement already satisfied: spacy-loggers<2.0.0,>=1.0.0 in /usr/local/lib/python3.7/dist-packages (from spacy<3.3.0,>=3.2.0->ru-core-news-sm==3.2.0) (1.0.1)\n",
            "Requirement already satisfied: packaging>=20.0 in /usr/local/lib/python3.7/dist-packages (from spacy<3.3.0,>=3.2.0->ru-core-news-sm==3.2.0) (21.3)\n",
            "Requirement already satisfied: thinc<8.1.0,>=8.0.12 in /usr/local/lib/python3.7/dist-packages (from spacy<3.3.0,>=3.2.0->ru-core-news-sm==3.2.0) (8.0.15)\n",
            "Requirement already satisfied: langcodes<4.0.0,>=3.2.0 in /usr/local/lib/python3.7/dist-packages (from spacy<3.3.0,>=3.2.0->ru-core-news-sm==3.2.0) (3.3.0)\n",
            "Requirement already satisfied: requests<3.0.0,>=2.13.0 in /usr/local/lib/python3.7/dist-packages (from spacy<3.3.0,>=3.2.0->ru-core-news-sm==3.2.0) (2.23.0)\n",
            "Requirement already satisfied: zipp>=0.5 in /usr/local/lib/python3.7/dist-packages (from catalogue<2.1.0,>=2.0.6->spacy<3.3.0,>=3.2.0->ru-core-news-sm==3.2.0) (3.7.0)\n",
            "Requirement already satisfied: pyparsing!=3.0.5,>=2.0.2 in /usr/local/lib/python3.7/dist-packages (from packaging>=20.0->spacy<3.3.0,>=3.2.0->ru-core-news-sm==3.2.0) (3.0.7)\n",
            "Requirement already satisfied: smart-open<6.0.0,>=5.0.0 in /usr/local/lib/python3.7/dist-packages (from pathy>=0.3.5->spacy<3.3.0,>=3.2.0->ru-core-news-sm==3.2.0) (5.2.1)\n",
            "Requirement already satisfied: certifi>=2017.4.17 in /usr/local/lib/python3.7/dist-packages (from requests<3.0.0,>=2.13.0->spacy<3.3.0,>=3.2.0->ru-core-news-sm==3.2.0) (2021.10.8)\n",
            "Requirement already satisfied: chardet<4,>=3.0.2 in /usr/local/lib/python3.7/dist-packages (from requests<3.0.0,>=2.13.0->spacy<3.3.0,>=3.2.0->ru-core-news-sm==3.2.0) (3.0.4)\n",
            "Requirement already satisfied: urllib3!=1.25.0,!=1.25.1,<1.26,>=1.21.1 in /usr/local/lib/python3.7/dist-packages (from requests<3.0.0,>=2.13.0->spacy<3.3.0,>=3.2.0->ru-core-news-sm==3.2.0) (1.24.3)\n",
            "Requirement already satisfied: idna<3,>=2.5 in /usr/local/lib/python3.7/dist-packages (from requests<3.0.0,>=2.13.0->spacy<3.3.0,>=3.2.0->ru-core-news-sm==3.2.0) (2.10)\n",
            "Requirement already satisfied: click<9.0.0,>=7.1.1 in /usr/local/lib/python3.7/dist-packages (from typer<0.5.0,>=0.3.0->spacy<3.3.0,>=3.2.0->ru-core-news-sm==3.2.0) (7.1.2)\n",
            "Requirement already satisfied: MarkupSafe>=0.23 in /usr/local/lib/python3.7/dist-packages (from jinja2->spacy<3.3.0,>=3.2.0->ru-core-news-sm==3.2.0) (2.0.1)\n"
          ]
        }
      ],
      "source": [
        "!pip install spacy\n",
        "!pip install --upgrade spacy\n",
        "!pip install https://github.com/explosion/spacy-models/releases/download/ru_core_news_sm-3.2.0/ru_core_news_sm-3.2.0.tar.gz\n"
      ]
    },
    {
      "cell_type": "code",
      "source": [
        "import pandas as pd\n",
        "import re\n",
        "import math\n",
        "import spacy\n",
        "import pymorphy2\n",
        "from pathlib import Path\n",
        "from pymystem3 import Mystem\n",
        "from string import punctuation\n",
        "from spacy.lang.ru import Russian\n",
        "from pymorphy2 import MorphAnalyzer\n",
        "from spacy.lang.ru.stop_words import STOP_WORDS\n",
        "from sklearn.feature_extraction.text import TfidfVectorizer\n"
      ],
      "metadata": {
        "id": "vQpmfscpS9zt"
      },
      "execution_count": 2,
      "outputs": []
    },
    {
      "cell_type": "code",
      "execution_count": null,
      "metadata": {
        "colab": {
          "base_uri": "https://localhost:8080/"
        },
        "id": "peXZ62k-yS58",
        "outputId": "c2421c60-3dcf-43ed-ad34-80d3ebd0c337"
      },
      "outputs": [
        {
          "output_type": "stream",
          "name": "stdout",
          "text": [
            "{'Рослый', 'требовалось', 'тд', 'которых', 'превентивно', 'одним', 'только', 'самому', 'едят', 'которое', 'так', 'далеко', 'оснащена', 'этим', 'была', 'ком', 'неё', 'такое', 'что', 'эти', 'мы', 'доступен', 'такому', 'и', 'февраля', 'Добавили', 'свой', 'свое', 'но', 'мог', 'он', 'которой', 'себя', 'тому', 'могли', 'одною', 'будьте', 'её', 'о', 'самими', 'всею', 'во', 'ест', 'исчез', 'всё', 'еще', 'моих', 'из', 'каждый', 'будешь', 'будем', 'в', 'самом', 'Лада', 'вовсе', 'она', 'котором', 'этого', 'объемом', 'такими', 'одни', 'царапается', 'моё', 'оне', 'такого', 'когда', 'мой', 'бы', 'такой', 'нашими', 'был', 'покупателей', 'своё', 'нашего', 'появятся', 'следующего', 'меня', 'своей', 'ему', 'можете', 'всего', 'нашим', 'своего', 'были', 'всю', 'моего', 'Туссана', 'очечник', 'например', 'выиграть', 'нами', 'моторнотрансмиссионных', 'изменился', 'всему', 'тобой', 'чему', 'наша', 'до', 'Семиместная', 'слабо', 'всей', 'при', 'ем', 'пьян', 'них', 'таких', 'кто', 'комья', 'тебя', 'USBпорт', 'вот', 'самим', 'этот', 'Дастера', 'тебе', 'едим', 'проголосовать', 'Выбирай', 'вся', 'безнаддувных', 'тот', 'такие', 'Вдобавок', 'они', 'может', 'моем', 'одному', 'тобою', 'тою', 'себе', 'которая', 'этими', 'анкету', 'моею', 'которою', 'этих', 'Sorento', 'эту', 'изменилась', 'могла', 'для', 'наших', 'это', 'Тоже', 'нашем', 'которого', 'гидротрансформаторным', 'моему', 'млн', 'ко', 'атмосферникам', 'стало', 'с', 'нет', 'стереотипам', 'своими', 'сама', 'мне', 'собой', 'есть', 'те', 'также', 'одних', 'моим', 'Джолион', 'моги', 'вам', 'ее', 'увеличился', 'появляются', 'четверых', 'вас', 'каждом', 'будучи', 'сами', 'кому', 'нее', 'этом', 'Индонезии', 'ими', 'Creta', 'за', 'WD', 'Крете', 'ним', 'свою', 'нему', 'буду', 'Включаешь', 'или', 'чём', 'Каждый', 'могло', 'сам', 'этому', 'своим', 'смотрят', 'тем', 'которым', 'самого', 'само', 'знает', 'одного', 'одной', 'ними', 'одно', 'свои', 'всех', 'будет', 'можешь', 'своею', 'скопирована', 'их', 'к', 'наше', 'будут', 'моя', 'могите', 'одними', 'ту', 'все', 'одиннадцати', 'ещё', 'появились', 'то', 'недалеко', 'моей', 'если', 'покупателям', 'предлагают', 'турбонаддувом', 'этой', 'мочь', 'всём', 'та', 'галогеновыми', 'же', 'изжитым', 'ей', 'будь', 'бензиновым', 'ела', 'всеми', 'его', 'нею', 'выглядят', 'ДаKia', 'нём', 'удается', 'которую', 'Сзади', 'сплошь', 'одном', 'бьет', 'ел', 'не', 'Крету', 'томах', 'ею', 'да', 'у', 'кем', 'одну', 'могу', 'приветствовать', 'мое', 'многим', 'всея', 'выглядит', 'как', 'по', 'надежности', 'изящно', 'превратилась', 'защищают', '–', 'нашу', 'нашему', 'оно', 'посмотреть', 'стереотип', 'чего', 'своя', 'выбрать', 'Jolion', 'своем', 'кого', 'ешь', 'которому', 'ней', 'собою', 'Возможно', 'нам', 'эта', 'китайцы', 'наса', 'всем', 'моём', 'завершится', 'мной', 'получаешь', 'своему', 'мною', 'от', 'могут', 'Hyundai', 'наши', 'мои', 'Haval', 'претензии', 'светят', 'ощупь', 'чем', 'такою', 'Хавейла', 'имъ', 'сочетая', 'который', 'нашей', 'Настолько', 'режущую', 'ты', 'Duster', 'мою', 'нашею', 'один', 'том', 'такую', 'уже', 'вами', 'об', 'я', 'оштрафуют', 'можем', 'нас', 'корейского', 'Заполнить', 'ступенчатые', 'было', 'него', 'постепенно', 'скептически', 'этою', 'обзаводятся', 'своих', 'такая', 'чтобы', 'своём', 'той', 'тех', 'им', 'теми', 'Голосование', 'наш', 'которые', 'одна', 'быть', 'эпатажника', 'весь', 'моими', 'саму', 'Вкласса', 'Кретой', 'будете', 'нем', 'которыми', 'самих', 'ждет', 'заставляют', 'вы', 'замаскировать', 'емъ', 'таким', 'на', 'таком', 'а', 'того'}\n"
          ]
        }
      ],
      "source": [
        "nlp = spacy.load('ru_core_news_sm')\n",
        "nlp.Defaults.stop_words |= {\n",
        "    \"например\",\n",
        "    \"также\",\n",
        "    \"тд\",\n",
        "    \"–\",\n",
        "    \"Туссана\",\n",
        "    \"Creta\",\n",
        "    \"Hyundai\",\n",
        "    \"сплошь\",\n",
        "    \"Возможно\",\n",
        "    \"оснащена\",\n",
        "    \"WD\",\n",
        "    \"приветствовать\",\n",
        "    \"выглядит\",\n",
        "    \"Вдобавок\",\n",
        "    \"Сзади\",\n",
        "    \"Тоже\",\n",
        "    \"появились\",\n",
        "    \"стало\",\n",
        "    \"изменилась\",\n",
        "    \"обзаводятся\",\n",
        "    \"Дастера\",\n",
        "    \"китайцы\",\n",
        "    \"многим\",\n",
        "    \"корейского\",\n",
        "    \"появятся\",\n",
        "    \"безнаддувных\",\n",
        "    \"выиграть\",\n",
        "    \"Лада\",\n",
        "    \"проголосовать\",\n",
        "    \"выбрать\",\n",
        "    \"одиннадцати\",\n",
        "    \"Заполнить\",\n",
        "    \"анкету\",\n",
        "    \"Голосование\",\n",
        "    \"завершится\",\n",
        "    \"февраля\",\n",
        "    \"Каждый\",\n",
        "    \"каждый\",\n",
        "    \"изменился\",\n",
        "    \"стереотип\",\n",
        "    \"стереотипам\",\n",
        "    \"изжитым\",\n",
        "    \"бензиновым\",\n",
        "    \"атмосферникам\",\n",
        "    \"гидротрансформаторным\",\n",
        "    \"покупателям\",\n",
        "    \"ДаKia\",\n",
        "    \"Sorento\",\n",
        "    \"Выбирай\",\n",
        "    \"предлагают\",\n",
        "    \"Duster\",\n",
        "    \"Haval\",\n",
        "    \"Jolion\",\n",
        "    \"вовсе\",\n",
        "    \"моторнотрансмиссионных\",\n",
        "    \"доступен\",\n",
        "    \"сочетая\",\n",
        "    \"Семиместная\",\n",
        "    \"Крете\",\n",
        "    \"USBпорт\",\n",
        "    \"исчез\",\n",
        "    \"очечник\",\n",
        "    \"Добавили\",\n",
        "    \"Крету\",\n",
        "    \"требовалось\",\n",
        "    \"четверых\",\n",
        "    \"Рослый\",\n",
        "    \"Хавейла\",\n",
        "    \"Джолион\",\n",
        "    \"далеко\",\n",
        "    \"увеличился\",\n",
        "    \"заставляют\",\n",
        "    \"покупателей\",\n",
        "    \"посмотреть\",\n",
        "    \"превратилась\",\n",
        "    \"эпатажника\",\n",
        "    \"смотрят\",\n",
        "    \"скептически\",\n",
        "    \"Индонезии\",\n",
        "    \"скопирована\",\n",
        "    \"знает\",\n",
        "    \"выглядят\",\n",
        "    \"светят\",\n",
        "    \"слабо\",\n",
        "    \"бьет\",\n",
        "    \"недалеко\",\n",
        "    \"галогеновыми\",\n",
        "    \"Включаешь\",\n",
        "    \"получаешь\",\n",
        "    \"режущую\",\n",
        "    \"Вкласса\",\n",
        "    \"ждет\",\n",
        "    \"удается\",\n",
        "    \"изящно\",\n",
        "    \"замаскировать\",\n",
        "    \"Кретой\",\n",
        "    \"царапается\",\n",
        "    \"ощупь\",\n",
        "    \"царапается\",\n",
        "    \"Настолько\",\n",
        "    \"превентивно\",\n",
        "    \"защищают\",\n",
        "    \"млн\",\n",
        "    \"постепенно\",\n",
        "    \"появляются\",\n",
        "    \"турбонаддувом\",\n",
        "    \"надежности\",\n",
        "    \"претензии\",\n",
        "    \"следующего\",\n",
        "    \"объемом\",\n",
        "    \"ступенчатые\",\n",
        "    \"каждом\",\n",
        "    \"пьян\",\n",
        "    \"оштрафуют\",\n",
        "}\n",
        "print(nlp.Defaults.stop_words)\n"
      ]
    },
    {
      "cell_type": "code",
      "execution_count": 3,
      "metadata": {
        "id": "P-dBq9lmBjql"
      },
      "outputs": [],
      "source": [
        "st1 = 'test1'\n",
        "st2 = 'test2'\n",
        "st3 = 'test3'\n",
        "st4 = 'st4'\n",
        "st5 = 'st5'\n",
        "st6 = 'st6'\n",
        "st7 = 'st7'\n",
        "st8 = 'st8'\n",
        "st9 = 'st9'\n",
        "st10 = 'st10'\n",
        "st11 = 'st11'\n",
        "st12 = 'st12'\n",
        "st13 = 'st13'\n",
        "st14 = 'st14'\n",
        "st15 = 'st15'\n",
        "st16 = 'st16'\n",
        "st17 = 'st17'\n",
        "st18 = 'st18'\n",
        "st19 = 'st19'\n",
        "st20 = 'st20'\n",
        "st21 = 'st21'\n",
        "st22 = 'st22'\n",
        "st23 = 'st23'\n",
        "st24 = 'st24'\n",
        "st25 = 'st25'\n",
        "st26 = 'st26'\n",
        "st27 = 'st27'\n",
        "st28 = 'st28'\n",
        "st29 = 'st29'\n",
        "st30 = 'st30'\n"
      ]
    },
    {
      "cell_type": "code",
      "execution_count": 4,
      "metadata": {
        "id": "sVrMIk9tsrH1"
      },
      "outputs": [],
      "source": [
        "def stopword(text):\n",
        "    marks = '''!()-[]{};?@#$%:'\"\\\\,./^&;*_—≈1234567890»«…'''\n",
        "    for c in marks:\n",
        "        text = text.replace(c, '')\n",
        "    nlp = spacy.load('ru_core_news_sm')\n",
        "    my_doc = nlp(text)\n",
        "    morph = pymorphy2.MorphAnalyzer()\n",
        "\n",
        "    token_list = []\n",
        "    for token in my_doc:\n",
        "        token_list.append(token.text)\n",
        "\n",
        "    filtered_sentence = []\n",
        "\n",
        "    for word in token_list:\n",
        "        p = morph.parse(word)[0]\n",
        "        lexeme = nlp.vocab[p.normal_form]\n",
        "        if not lexeme.is_stop:\n",
        "            filtered_sentence.append(p.normal_form)\n",
        "    with open('listfile.txt', 'w') as filehandle:\n",
        "        for listitem in filtered_sentence:\n",
        "            filehandle.write('%s\\n' % listitem)\n",
        "    filehandle = open(\"listfile.txt\").read()\n",
        "    open(\"listfile.txt\", \"w\").close()\n",
        "    return filehandle\n",
        "\n",
        "\n",
        "def stopword1(text):\n",
        "    marks = '''!()-[]{};?@#$%:'\"\\\\,./^&;*_—≈1234567890»«…'''\n",
        "    for c in marks:\n",
        "        text = text.replace(c, '')\n",
        "    nlp = spacy.load('ru_core_news_sm')\n",
        "    my_doc = nlp(text)\n",
        "\n",
        "    token_list = []\n",
        "    for token in my_doc:\n",
        "        token_list.append(token.text)\n",
        "\n",
        "    filtered_sentence = []\n",
        "\n",
        "    for word in token_list:\n",
        "        lexeme = nlp.vocab[word]\n",
        "        if not lexeme.is_stop:\n",
        "            filtered_sentence.append(word)\n",
        "    with open('listfile.txt', 'w') as filehandle:\n",
        "        for listitem in filtered_sentence:\n",
        "            filehandle.write('%s\\n' % listitem)\n",
        "    filehandle = open(\"listfile.txt\").read()\n",
        "    open(\"listfile.txt\", \"w\").close()\n",
        "    return filehadle\n",
        "\n",
        "\n",
        "def fileopen(infile):\n",
        "    infile = stopword(open('%s.txt' % infile, 'r').read())\n",
        "    return infile\n",
        "\n",
        "\n",
        "def document(text):\n",
        "    text = fileopen(text)\n",
        "    return text\n"
      ]
    },
    {
      "cell_type": "code",
      "source": [
        "#Creating a list of texts\n",
        "bloblist = [\n",
        "    document(st1),\n",
        "    document(st2),\n",
        "    document(st3),\n",
        "  ]\n",
        "print(bloblist)"
      ],
      "metadata": {
        "id": "dbBcnCtqZX3a",
        "colab": {
          "base_uri": "https://localhost:8080/"
        },
        "outputId": "f7f9dc94-9481-4106-aa58-fdc6a1790085"
      },
      "execution_count": 5,
      "outputs": [
        {
          "output_type": "stream",
          "name": "stdout",
          "text": [
            "['машина\\nмашина\\nехать\\nпрямо\\nдом\\nмашина\\nплавать\\nрека\\nдтп\\nпривет\\nато\\nдело\\nдело\\n\\n\\n', 'прикольный\\nклассный\\nмашина\\nбелый\\n \\nспортивный\\nмашина\\nолигарх\\nстоить\\n \\nтысяча\\nдоллар\\nмашина\\nкрасивый\\nдевушка\\nехать\\nпрямо\\nехать\\nпрямо\\n', 'андрей\\nвитя\\nдима\\nсаша\\nкрасивый\\nугрюмый\\nсолнце\\nсиний\\nбелый\\nтуман\\nоктейн\\nмашина\\n']\n"
          ]
        }
      ]
    },
    {
      "cell_type": "code",
      "source": [
        "pattern = r\"\\s+([а-яА-Я]{2,3})\\s+\"\n",
        "\n",
        "newpattern = r\" \"\n",
        "newbloblist = re.sub(pattern,newpattern,document(st1)).split()\n",
        "\n",
        "print(newbloblist)"
      ],
      "metadata": {
        "colab": {
          "base_uri": "https://localhost:8080/"
        },
        "id": "lRaOcyNjno1E",
        "outputId": "9cbb4cc0-2d96-4b94-ac12-13a0323d08b9"
      },
      "execution_count": 6,
      "outputs": [
        {
          "output_type": "stream",
          "name": "stdout",
          "text": [
            "['машина', 'машина', 'ехать', 'прямо', 'машина', 'плавать', 'река', 'привет', 'дело', 'дело']\n"
          ]
        }
      ]
    },
    {
      "cell_type": "code",
      "source": [
        "fout = open(\"output.txt\", \"w\")\n",
        "tfIdfVectorizer = TfidfVectorizer(use_idf=True)\n",
        "tfIdfVectorizer.fit(bloblist)\n",
        "tfIdf = tfIdfVectorizer.transform([bloblist[0]])\n",
        "df = pd.DataFrame(\n",
        "    tfIdf.T.todense(),\n",
        "    index=tfIdfVectorizer.get_feature_names_out(),\n",
        "    columns=[\"TF-IDF\"])\n",
        "df = df.sort_values('TF-IDF', ascending=False)\n",
        "df = df[(df > 0).all(axis=1)]\n",
        "print(list(df.index), file=fout)\n"
      ],
      "metadata": {
        "id": "DiIZSG0WVKpt"
      },
      "execution_count": 10,
      "outputs": []
    },
    {
      "cell_type": "code",
      "source": [
        "n = open(\"nouns.txt\", \"w\")  # removing parts of speech\n",
        "infile = stopword(open(\"output.txt\", \"r\").read())\n",
        "print(infile)\n",
        "infile = re.sub(\"[^\\\\w]\", \" \", infile).split()\n",
        "print(infile)\n",
        "words = infile\n",
        "morph = MorphAnalyzer()\n",
        "items = [(str(morph.parse(w)[0].tag.POS), w) for w in words]\n",
        "for word, score in items[:]:\n",
        "    if word == 'NOUN':\n",
        "        print((score), file=n)\n"
      ],
      "metadata": {
        "id": "8WpFD3eUHPUY",
        "colab": {
          "base_uri": "https://localhost:8080/"
        },
        "outputId": "1936092f-9cb3-4260-b084-59e5920d548c"
      },
      "execution_count": 13,
      "outputs": [
        {
          "output_type": "stream",
          "name": "stdout",
          "text": [
            "дело\n",
            "машина\n",
            "дтп\n",
            "дом\n",
            "плавать\n",
            "река\n",
            "ато\n",
            "привет\n",
            "прямо\n",
            "ехать\n",
            "\n",
            "\n",
            "\n",
            "['дело', 'машина', 'дтп', 'дом', 'плавать', 'река', 'ато', 'привет', 'прямо', 'ехать']\n"
          ]
        }
      ]
    },
    {
      "cell_type": "code",
      "execution_count": 12,
      "metadata": {
        "id": "seqSLuNIhwbw"
      },
      "outputs": [],
      "source": [
        "a = open(\"adjf.txt\", \"w\")\n",
        "for word, score in items[:]:\n",
        "    if word == 'ADJF':\n",
        "        print((score), file=a)\n",
        "        "
      ]
    }
  ]
}
